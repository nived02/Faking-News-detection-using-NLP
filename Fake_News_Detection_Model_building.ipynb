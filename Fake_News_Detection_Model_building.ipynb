{
  "nbformat": 4,
  "nbformat_minor": 0,
  "metadata": {
    "kernelspec": {
      "display_name": "Python 3",
      "language": "python",
      "name": "python3"
    },
    "language_info": {
      "codemirror_mode": {
        "name": "ipython",
        "version": 3
      },
      "file_extension": ".py",
      "mimetype": "text/x-python",
      "name": "python",
      "nbconvert_exporter": "python",
      "pygments_lexer": "ipython3",
      "version": "3.7.7"
    },
    "colab": {
      "name": "GNR652_Fake_News_Detection_Model_building_ (1).ipynb",
      "provenance": [],
      "collapsed_sections": []
    },
    "accelerator": "GPU",
    "gpuClass": "standard"
  },
  "cells": [
    {
      "cell_type": "code",
      "metadata": {
        "id": "64enhT1bxPLx",
        "colab": {
          "base_uri": "https://localhost:8080/"
        },
        "outputId": "84952d12-d232-43fd-ad15-8ada72b00eae"
      },
      "source": [
        "# First we import the required libraries\n",
        "\n",
        "import tensorflow as tf\n",
        "import random\n",
        "import numpy as np\n",
        "import pandas as pd\n",
        "import matplotlib.image  as mpimg\n",
        "import matplotlib.pyplot as plt\n",
        "import io\n",
        "\n",
        "from sklearn.model_selection import train_test_split\n",
        "from sklearn.utils import shuffle\n",
        "from sklearn.metrics import f1_score\n",
        "from tensorflow.keras.preprocessing.text import Tokenizer\n",
        "from tensorflow.keras.preprocessing.sequence import pad_sequences\n",
        "from tensorflow.keras.utils import to_categorical\n",
        "from tensorflow.keras import regularizers\n",
        "from tensorflow.keras import backend as K \n",
        "K.clear_session()\n",
        "\n",
        "# Check tensorflow version\n",
        "if float(tf.__version__[0]) < 2.0:\n",
        "  print('Updating tensorflow')\n",
        "  !pip install tensorflow==2.0\n",
        "else:\n",
        "  print('Correct version of Tensorflow installed.')"
      ],
      "execution_count": 3,
      "outputs": [
        {
          "output_type": "stream",
          "name": "stdout",
          "text": [
            "Correct version of Tensorflow installed.\n"
          ]
        }
      ]
    },
    {
      "cell_type": "code",
      "metadata": {
        "id": "d22Qw457xdYp",
        "colab": {
          "base_uri": "https://localhost:8080/"
        },
        "outputId": "5f66222b-dfbc-49f5-8424-a936066c61af"
      },
      "source": [
        "from google.colab import drive\n",
        "drive.mount('/content/drive')\n",
        "%cd /content/drive/My Drive/GNR_project"
      ],
      "execution_count": 1,
      "outputs": [
        {
          "output_type": "stream",
          "name": "stdout",
          "text": [
            "Mounted at /content/drive\n",
            "/content/drive/.shortcut-targets-by-id/1Jy3ikjmRyrUXuihE1Z7xTzK9qnYaJsRw/GNR_project\n"
          ]
        }
      ]
    },
    {
      "cell_type": "code",
      "metadata": {
        "id": "PozIw63FxPL4",
        "colab": {
          "base_uri": "https://localhost:8080/",
          "height": 195
        },
        "outputId": "1bb2c941-82bc-45a1-927d-2e445054fd99"
      },
      "source": [
        "data = pd.read_csv('dataset_processed.csv')\n",
        "data.head()"
      ],
      "execution_count": null,
      "outputs": [
        {
          "output_type": "execute_result",
          "data": {
            "text/html": [
              "<div>\n",
              "<style scoped>\n",
              "    .dataframe tbody tr th:only-of-type {\n",
              "        vertical-align: middle;\n",
              "    }\n",
              "\n",
              "    .dataframe tbody tr th {\n",
              "        vertical-align: top;\n",
              "    }\n",
              "\n",
              "    .dataframe thead th {\n",
              "        text-align: right;\n",
              "    }\n",
              "</style>\n",
              "<table border=\"1\" class=\"dataframe\">\n",
              "  <thead>\n",
              "    <tr style=\"text-align: right;\">\n",
              "      <th></th>\n",
              "      <th>Unnamed: 0</th>\n",
              "      <th>title</th>\n",
              "      <th>text</th>\n",
              "      <th>label</th>\n",
              "    </tr>\n",
              "  </thead>\n",
              "  <tbody>\n",
              "    <tr>\n",
              "      <th>0</th>\n",
              "      <td>0</td>\n",
              "      <td>you can smell hillaryís fear</td>\n",
              "      <td>daniel greenfield shillman journalism fellow f...</td>\n",
              "      <td>1</td>\n",
              "    </tr>\n",
              "    <tr>\n",
              "      <th>1</th>\n",
              "      <td>1</td>\n",
              "      <td>watch the exact moment paul ryan committed pol...</td>\n",
              "      <td>google pinterest digg linkedin reddit stumbleu...</td>\n",
              "      <td>1</td>\n",
              "    </tr>\n",
              "    <tr>\n",
              "      <th>2</th>\n",
              "      <td>2</td>\n",
              "      <td>kerry go paris gesture sympathy</td>\n",
              "      <td>u s secretary state john f kerry said monday s...</td>\n",
              "      <td>0</td>\n",
              "    </tr>\n",
              "    <tr>\n",
              "      <th>3</th>\n",
              "      <td>3</td>\n",
              "      <td>bernie supporters twitter erupt anger dnc we t...</td>\n",
              "      <td>kaydee king november the lesson tonight dem l...</td>\n",
              "      <td>1</td>\n",
              "    </tr>\n",
              "    <tr>\n",
              "      <th>4</th>\n",
              "      <td>4</td>\n",
              "      <td>the battle new york why this primary matters</td>\n",
              "      <td>it primary day new york front runners hillary ...</td>\n",
              "      <td>0</td>\n",
              "    </tr>\n",
              "  </tbody>\n",
              "</table>\n",
              "</div>"
            ],
            "text/plain": [
              "   Unnamed: 0  ... label\n",
              "0           0  ...     1\n",
              "1           1  ...     1\n",
              "2           2  ...     0\n",
              "3           3  ...     1\n",
              "4           4  ...     0\n",
              "\n",
              "[5 rows x 4 columns]"
            ]
          },
          "metadata": {
            "tags": []
          },
          "execution_count": 3
        }
      ]
    },
    {
      "cell_type": "code",
      "metadata": {
        "id": "FOuahkgPxPL-",
        "colab": {
          "base_uri": "https://localhost:8080/",
          "height": 101
        },
        "outputId": "7aa51098-bcd1-40e6-f718-e37944c0d4a3"
      },
      "source": [
        "data.fillna('')\n",
        "data.count()"
      ],
      "execution_count": null,
      "outputs": [
        {
          "output_type": "execute_result",
          "data": {
            "text/plain": [
              "Unnamed: 0    32289\n",
              "title         31607\n",
              "text          32289\n",
              "label         32289\n",
              "dtype: int64"
            ]
          },
          "metadata": {
            "tags": []
          },
          "execution_count": 6
        }
      ]
    },
    {
      "cell_type": "code",
      "metadata": {
        "id": "rcUHRkR2xPME",
        "colab": {
          "base_uri": "https://localhost:8080/",
          "height": 402
        },
        "outputId": "bd579b55-44f5-4aca-a2d4-7a75167b5d0b"
      },
      "source": [
        "data.drop(['Unnamed: 0'], axis=1)"
      ],
      "execution_count": null,
      "outputs": [
        {
          "output_type": "execute_result",
          "data": {
            "text/html": [
              "<div>\n",
              "<style scoped>\n",
              "    .dataframe tbody tr th:only-of-type {\n",
              "        vertical-align: middle;\n",
              "    }\n",
              "\n",
              "    .dataframe tbody tr th {\n",
              "        vertical-align: top;\n",
              "    }\n",
              "\n",
              "    .dataframe thead th {\n",
              "        text-align: right;\n",
              "    }\n",
              "</style>\n",
              "<table border=\"1\" class=\"dataframe\">\n",
              "  <thead>\n",
              "    <tr style=\"text-align: right;\">\n",
              "      <th></th>\n",
              "      <th>title</th>\n",
              "      <th>text</th>\n",
              "      <th>label</th>\n",
              "    </tr>\n",
              "  </thead>\n",
              "  <tbody>\n",
              "    <tr>\n",
              "      <th>0</th>\n",
              "      <td>you can smell hillaryís fear</td>\n",
              "      <td>daniel greenfield shillman journalism fellow f...</td>\n",
              "      <td>1</td>\n",
              "    </tr>\n",
              "    <tr>\n",
              "      <th>1</th>\n",
              "      <td>watch the exact moment paul ryan committed pol...</td>\n",
              "      <td>google pinterest digg linkedin reddit stumbleu...</td>\n",
              "      <td>1</td>\n",
              "    </tr>\n",
              "    <tr>\n",
              "      <th>2</th>\n",
              "      <td>kerry go paris gesture sympathy</td>\n",
              "      <td>u s secretary state john f kerry said monday s...</td>\n",
              "      <td>0</td>\n",
              "    </tr>\n",
              "    <tr>\n",
              "      <th>3</th>\n",
              "      <td>bernie supporters twitter erupt anger dnc we t...</td>\n",
              "      <td>kaydee king november the lesson tonight dem l...</td>\n",
              "      <td>1</td>\n",
              "    </tr>\n",
              "    <tr>\n",
              "      <th>4</th>\n",
              "      <td>the battle new york why this primary matters</td>\n",
              "      <td>it primary day new york front runners hillary ...</td>\n",
              "      <td>0</td>\n",
              "    </tr>\n",
              "    <tr>\n",
              "      <th>...</th>\n",
              "      <td>...</td>\n",
              "      <td>...</td>\n",
              "      <td>...</td>\n",
              "    </tr>\n",
              "    <tr>\n",
              "      <th>32284</th>\n",
              "      <td>the bangladeshi traffic jam that never ends th...</td>\n",
              "      <td>of dysfunctions plague worlds megacities none ...</td>\n",
              "      <td>0</td>\n",
              "    </tr>\n",
              "    <tr>\n",
              "      <th>32285</th>\n",
              "      <td>john kasich signs one abortion bill ohio vetoe...</td>\n",
              "      <td>washington gov john kasich ohio tuesday signed...</td>\n",
              "      <td>1</td>\n",
              "    </tr>\n",
              "    <tr>\n",
              "      <th>32286</th>\n",
              "      <td>california today what exactly is your sushi th...</td>\n",
              "      <td>good morning want get california today email h...</td>\n",
              "      <td>0</td>\n",
              "    </tr>\n",
              "    <tr>\n",
              "      <th>32287</th>\n",
              "      <td>us marines to be deployed to russian border i...</td>\n",
              "      <td>previous next us marines to be deployed to ru...</td>\n",
              "      <td>1</td>\n",
              "    </tr>\n",
              "    <tr>\n",
              "      <th>32288</th>\n",
              "      <td>awkward sex onscreen off the new york times</td>\n",
              "      <td>perhaps youve seen new tv series whose pilot e...</td>\n",
              "      <td>0</td>\n",
              "    </tr>\n",
              "  </tbody>\n",
              "</table>\n",
              "<p>32289 rows × 3 columns</p>\n",
              "</div>"
            ],
            "text/plain": [
              "                                                   title  ... label\n",
              "0                           you can smell hillaryís fear  ...     1\n",
              "1      watch the exact moment paul ryan committed pol...  ...     1\n",
              "2                        kerry go paris gesture sympathy  ...     0\n",
              "3      bernie supporters twitter erupt anger dnc we t...  ...     1\n",
              "4           the battle new york why this primary matters  ...     0\n",
              "...                                                  ...  ...   ...\n",
              "32284  the bangladeshi traffic jam that never ends th...  ...     0\n",
              "32285  john kasich signs one abortion bill ohio vetoe...  ...     1\n",
              "32286  california today what exactly is your sushi th...  ...     0\n",
              "32287   us marines to be deployed to russian border i...  ...     1\n",
              "32288        awkward sex onscreen off the new york times  ...     0\n",
              "\n",
              "[32289 rows x 3 columns]"
            ]
          },
          "metadata": {
            "tags": []
          },
          "execution_count": 7
        }
      ]
    },
    {
      "cell_type": "code",
      "metadata": {
        "id": "lbe8RC4ixPMN",
        "colab": {
          "base_uri": "https://localhost:8080/",
          "height": 34
        },
        "outputId": "0d5781eb-064c-4f7b-ccbb-280a9b78b6e3"
      },
      "source": [
        "# Tokenize text\n",
        "\n",
        "tokenizer = Tokenizer()\n",
        "tokenizer.fit_on_texts(data['text'])\n",
        "word_index = tokenizer.word_index\n",
        "vocab_size=len(word_index)\n",
        "print(vocab_size)\n",
        "\n",
        "# Padding data\n",
        "\n",
        "sequences = tokenizer.texts_to_sequences(data['text'])\n",
        "padded = pad_sequences(sequences, maxlen=500, padding='post', truncating='post')"
      ],
      "execution_count": null,
      "outputs": [
        {
          "output_type": "stream",
          "text": [
            "177484\n"
          ],
          "name": "stdout"
        }
      ]
    },
    {
      "cell_type": "code",
      "metadata": {
        "id": "U5EXNWHoxPMW"
      },
      "source": [
        "split = 0.35\n",
        "split_n = int(round(len(padded)*(1-split),0))\n",
        "from sklearn.model_selection import train_test_split\n",
        "\n",
        "train_data, test_data, train_labels, test_labels = train_test_split(padded, data['label'], test_size=0.35, random_state=42, stratify=data['label'])\n",
        "#train_data = padded[:split_n]\n",
        "#train_labels = data['label'].values[:split_n]\n",
        "#test_data = padded[split_n:]\n",
        "#test_labels = data['label'].values[split_n:]"
      ],
      "execution_count": null,
      "outputs": []
    },
    {
      "cell_type": "code",
      "metadata": {
        "id": "hQr6_kobxPMi",
        "colab": {
          "base_uri": "https://localhost:8080/",
          "height": 34
        },
        "outputId": "55141519-38d4-4cde-8bd9-d06154eaa020"
      },
      "source": [
        "# Import tensor representations for words\n",
        "\n",
        "embeddings_index = {};\n",
        "with open('glove.6B.100d.txt') as f:\n",
        "    for line in f:\n",
        "        values = line.split();\n",
        "        word = values[0];\n",
        "        coefs = np.asarray(values[1:], dtype='float32');\n",
        "        embeddings_index[word] = coefs;\n",
        "print(len(coefs))\n",
        "\n",
        "embeddings_matrix = np.zeros((vocab_size+1, 100));\n",
        "for word, i in word_index.items():\n",
        "    embedding_vector = embeddings_index.get(word);\n",
        "    if embedding_vector is not None:\n",
        "        embeddings_matrix[i] = embedding_vector;"
      ],
      "execution_count": null,
      "outputs": [
        {
          "output_type": "stream",
          "text": [
            "100\n"
          ],
          "name": "stdout"
        }
      ]
    },
    {
      "cell_type": "code",
      "metadata": {
        "id": "DAZ692DTxPMt"
      },
      "source": [
        "# Build the architecture of the model\n",
        "     \n",
        "model = tf.keras.Sequential([\n",
        "    tf.keras.layers.Embedding(vocab_size+1, 100, weights=[embeddings_matrix], trainable=False),\n",
        "    tf.keras.layers.Dropout(0.4),\n",
        "    tf.keras.layers.Conv1D(64, 5, activation='relu'),\n",
        "    tf.keras.layers.MaxPooling1D(pool_size=4),\n",
        "    tf.keras.layers.LSTM(20, return_sequences=True),\n",
        "    tf.keras.layers.LSTM(20, return_sequences=True),\n",
        "    tf.keras.layers.LSTM(20),\n",
        "    tf.keras.layers.Dropout(0.3),  \n",
        "    tf.keras.layers.Dense(512),\n",
        "    tf.keras.layers.Dropout(0.4),  \n",
        "    tf.keras.layers.Dense(256),\n",
        "    tf.keras.layers.Dense(1, activation='sigmoid')\n",
        "])"
      ],
      "execution_count": null,
      "outputs": []
    },
    {
      "cell_type": "code",
      "metadata": {
        "id": "7nAfFE2lxPM3",
        "colab": {
          "base_uri": "https://localhost:8080/",
          "height": 1000
        },
        "outputId": "0531135f-ead2-48af-848a-2cf8b6d77097"
      },
      "source": [
        "#learning rate decay\n",
        "#decayed_learning_rate(step) = initial_learning_rate * decay_rate ^ (step / decay_steps)\n",
        "lr_schedule = tf.keras.optimizers.schedules.ExponentialDecay(\n",
        "    initial_learning_rate=1e-2,\n",
        "    decay_steps=700,\n",
        "    decay_rate=0.9)\n",
        "\n",
        "optimizer_ = tf.keras.optimizers.Adam(\n",
        "    learning_rate= lr_schedule,\n",
        "    beta_1=0.9,\n",
        "    beta_2=0.999,\n",
        "    epsilon=1e-07,\n",
        "    amsgrad=False,\n",
        "    name=\"Adam\"\n",
        ")\n",
        "\n",
        "model.compile(loss='binary_crossentropy',optimizer=optimizer_ ,metrics=['accuracy'])\n",
        "model.summary()\n",
        "\n",
        "history = model.fit(train_data, train_labels, epochs=100, batch_size=64, validation_data=(test_data, test_labels))\n",
        "\n",
        "print(\"Training Complete\")"
      ],
      "execution_count": null,
      "outputs": [
        {
          "output_type": "stream",
          "text": [
            "Model: \"sequential_4\"\n",
            "_________________________________________________________________\n",
            "Layer (type)                 Output Shape              Param #   \n",
            "=================================================================\n",
            "embedding_4 (Embedding)      (None, None, 100)         17748500  \n",
            "_________________________________________________________________\n",
            "dropout_12 (Dropout)         (None, None, 100)         0         \n",
            "_________________________________________________________________\n",
            "conv1d_4 (Conv1D)            (None, None, 64)          32064     \n",
            "_________________________________________________________________\n",
            "max_pooling1d_4 (MaxPooling1 (None, None, 64)          0         \n",
            "_________________________________________________________________\n",
            "lstm_12 (LSTM)               (None, None, 20)          6800      \n",
            "_________________________________________________________________\n",
            "lstm_13 (LSTM)               (None, None, 20)          3280      \n",
            "_________________________________________________________________\n",
            "lstm_14 (LSTM)               (None, 20)                3280      \n",
            "_________________________________________________________________\n",
            "dropout_13 (Dropout)         (None, 20)                0         \n",
            "_________________________________________________________________\n",
            "dense_12 (Dense)             (None, 512)               10752     \n",
            "_________________________________________________________________\n",
            "dropout_14 (Dropout)         (None, 512)               0         \n",
            "_________________________________________________________________\n",
            "dense_13 (Dense)             (None, 256)               131328    \n",
            "_________________________________________________________________\n",
            "dense_14 (Dense)             (None, 1)                 257       \n",
            "=================================================================\n",
            "Total params: 17,936,261\n",
            "Trainable params: 187,761\n",
            "Non-trainable params: 17,748,500\n",
            "_________________________________________________________________\n",
            "Epoch 1/100\n",
            "328/328 [==============================] - 10s 31ms/step - loss: 0.6029 - accuracy: 0.6901 - val_loss: 0.5135 - val_accuracy: 0.7465\n",
            "Epoch 2/100\n",
            "328/328 [==============================] - 9s 28ms/step - loss: 0.5751 - accuracy: 0.7087 - val_loss: 0.6029 - val_accuracy: 0.6877\n",
            "Epoch 3/100\n",
            "328/328 [==============================] - 9s 27ms/step - loss: 0.4936 - accuracy: 0.7652 - val_loss: 0.4274 - val_accuracy: 0.8013\n",
            "Epoch 4/100\n",
            "328/328 [==============================] - 9s 28ms/step - loss: 0.4197 - accuracy: 0.8119 - val_loss: 0.3586 - val_accuracy: 0.8406\n",
            "Epoch 5/100\n",
            "328/328 [==============================] - 9s 29ms/step - loss: 0.3950 - accuracy: 0.8221 - val_loss: 0.3388 - val_accuracy: 0.8474\n",
            "Epoch 6/100\n",
            "328/328 [==============================] - 9s 28ms/step - loss: 0.3627 - accuracy: 0.8408 - val_loss: 0.3232 - val_accuracy: 0.8584\n",
            "Epoch 7/100\n",
            "328/328 [==============================] - 9s 28ms/step - loss: 0.3533 - accuracy: 0.8481 - val_loss: 0.3227 - val_accuracy: 0.8603\n",
            "Epoch 8/100\n",
            "328/328 [==============================] - 10s 31ms/step - loss: 0.3357 - accuracy: 0.8585 - val_loss: 0.3874 - val_accuracy: 0.8410\n",
            "Epoch 9/100\n",
            "328/328 [==============================] - 9s 28ms/step - loss: 0.3289 - accuracy: 0.8612 - val_loss: 0.3423 - val_accuracy: 0.8503\n",
            "Epoch 10/100\n",
            "328/328 [==============================] - 9s 28ms/step - loss: 0.3197 - accuracy: 0.8664 - val_loss: 0.3111 - val_accuracy: 0.8716\n",
            "Epoch 11/100\n",
            "328/328 [==============================] - 9s 28ms/step - loss: 0.3120 - accuracy: 0.8694 - val_loss: 0.3047 - val_accuracy: 0.8683\n",
            "Epoch 12/100\n",
            "328/328 [==============================] - 9s 28ms/step - loss: 0.3079 - accuracy: 0.8737 - val_loss: 0.3044 - val_accuracy: 0.8760\n",
            "Epoch 13/100\n",
            "328/328 [==============================] - 9s 28ms/step - loss: 0.2961 - accuracy: 0.8788 - val_loss: 0.2934 - val_accuracy: 0.8767\n",
            "Epoch 14/100\n",
            "328/328 [==============================] - 9s 28ms/step - loss: 0.2931 - accuracy: 0.8815 - val_loss: 0.3078 - val_accuracy: 0.8798\n",
            "Epoch 15/100\n",
            "328/328 [==============================] - 9s 28ms/step - loss: 0.2887 - accuracy: 0.8814 - val_loss: 0.3065 - val_accuracy: 0.8819\n",
            "Epoch 16/100\n",
            "328/328 [==============================] - 9s 28ms/step - loss: 0.2868 - accuracy: 0.8814 - val_loss: 0.2862 - val_accuracy: 0.8823\n",
            "Epoch 17/100\n",
            "328/328 [==============================] - 9s 28ms/step - loss: 0.2837 - accuracy: 0.8842 - val_loss: 0.3014 - val_accuracy: 0.8828\n",
            "Epoch 18/100\n",
            "328/328 [==============================] - 9s 28ms/step - loss: 0.2811 - accuracy: 0.8844 - val_loss: 0.2909 - val_accuracy: 0.8861\n",
            "Epoch 19/100\n",
            "328/328 [==============================] - 9s 28ms/step - loss: 0.2793 - accuracy: 0.8856 - val_loss: 0.2949 - val_accuracy: 0.8853\n",
            "Epoch 20/100\n",
            "328/328 [==============================] - 9s 28ms/step - loss: 0.2717 - accuracy: 0.8922 - val_loss: 0.2868 - val_accuracy: 0.8812\n",
            "Epoch 21/100\n",
            "328/328 [==============================] - 9s 28ms/step - loss: 0.2659 - accuracy: 0.8917 - val_loss: 0.2737 - val_accuracy: 0.8910\n",
            "Epoch 22/100\n",
            "328/328 [==============================] - 9s 28ms/step - loss: 0.2632 - accuracy: 0.8933 - val_loss: 0.2783 - val_accuracy: 0.8856\n",
            "Epoch 23/100\n",
            "328/328 [==============================] - 9s 28ms/step - loss: 0.2650 - accuracy: 0.8937 - val_loss: 0.2752 - val_accuracy: 0.8918\n",
            "Epoch 24/100\n",
            "328/328 [==============================] - 9s 28ms/step - loss: 0.2589 - accuracy: 0.8944 - val_loss: 0.2856 - val_accuracy: 0.8880\n",
            "Epoch 25/100\n",
            "328/328 [==============================] - 9s 28ms/step - loss: 0.2512 - accuracy: 0.8986 - val_loss: 0.2968 - val_accuracy: 0.8898\n",
            "Epoch 26/100\n",
            "328/328 [==============================] - 9s 29ms/step - loss: 0.2535 - accuracy: 0.8981 - val_loss: 0.2796 - val_accuracy: 0.8896\n",
            "Epoch 27/100\n",
            "328/328 [==============================] - 10s 29ms/step - loss: 0.2496 - accuracy: 0.9016 - val_loss: 0.2800 - val_accuracy: 0.8917\n",
            "Epoch 28/100\n",
            "328/328 [==============================] - 9s 28ms/step - loss: 0.2456 - accuracy: 0.9002 - val_loss: 0.2759 - val_accuracy: 0.8890\n",
            "Epoch 29/100\n",
            "328/328 [==============================] - 9s 28ms/step - loss: 0.2466 - accuracy: 0.9016 - val_loss: 0.2794 - val_accuracy: 0.8937\n",
            "Epoch 30/100\n",
            "328/328 [==============================] - 9s 28ms/step - loss: 0.2467 - accuracy: 0.9005 - val_loss: 0.2679 - val_accuracy: 0.8935\n",
            "Epoch 31/100\n",
            "328/328 [==============================] - 9s 28ms/step - loss: 0.2439 - accuracy: 0.9025 - val_loss: 0.2674 - val_accuracy: 0.8934\n",
            "Epoch 32/100\n",
            "328/328 [==============================] - 9s 28ms/step - loss: 0.2396 - accuracy: 0.9038 - val_loss: 0.2939 - val_accuracy: 0.8929\n",
            "Epoch 33/100\n",
            "328/328 [==============================] - 9s 28ms/step - loss: 0.2437 - accuracy: 0.9024 - val_loss: 0.2748 - val_accuracy: 0.8898\n",
            "Epoch 34/100\n",
            "328/328 [==============================] - 9s 28ms/step - loss: 0.2373 - accuracy: 0.9041 - val_loss: 0.2832 - val_accuracy: 0.8949\n",
            "Epoch 35/100\n",
            "328/328 [==============================] - 9s 28ms/step - loss: 0.2333 - accuracy: 0.9071 - val_loss: 0.2894 - val_accuracy: 0.8894\n",
            "Epoch 36/100\n",
            "328/328 [==============================] - 9s 28ms/step - loss: 0.2328 - accuracy: 0.9081 - val_loss: 0.2806 - val_accuracy: 0.8939\n",
            "Epoch 37/100\n",
            "328/328 [==============================] - 9s 28ms/step - loss: 0.2321 - accuracy: 0.9084 - val_loss: 0.2657 - val_accuracy: 0.8959\n",
            "Epoch 38/100\n",
            "328/328 [==============================] - 9s 28ms/step - loss: 0.2310 - accuracy: 0.9082 - val_loss: 0.2762 - val_accuracy: 0.8947\n",
            "Epoch 39/100\n",
            "328/328 [==============================] - 9s 28ms/step - loss: 0.2305 - accuracy: 0.9078 - val_loss: 0.2693 - val_accuracy: 0.8949\n",
            "Epoch 40/100\n",
            "328/328 [==============================] - 9s 28ms/step - loss: 0.2287 - accuracy: 0.9107 - val_loss: 0.2865 - val_accuracy: 0.8902\n",
            "Epoch 41/100\n",
            "328/328 [==============================] - 9s 28ms/step - loss: 0.2253 - accuracy: 0.9105 - val_loss: 0.2821 - val_accuracy: 0.8956\n",
            "Epoch 42/100\n",
            "328/328 [==============================] - 9s 28ms/step - loss: 0.2286 - accuracy: 0.9087 - val_loss: 0.2910 - val_accuracy: 0.8908\n",
            "Epoch 43/100\n",
            "328/328 [==============================] - 9s 28ms/step - loss: 0.2271 - accuracy: 0.9093 - val_loss: 0.2834 - val_accuracy: 0.8940\n",
            "Epoch 44/100\n",
            "328/328 [==============================] - 9s 28ms/step - loss: 0.2270 - accuracy: 0.9106 - val_loss: 0.2676 - val_accuracy: 0.8963\n",
            "Epoch 45/100\n",
            "328/328 [==============================] - 9s 28ms/step - loss: 0.2211 - accuracy: 0.9107 - val_loss: 0.2849 - val_accuracy: 0.8940\n",
            "Epoch 46/100\n",
            "328/328 [==============================] - 9s 28ms/step - loss: 0.2237 - accuracy: 0.9115 - val_loss: 0.2761 - val_accuracy: 0.8961\n",
            "Epoch 47/100\n",
            "328/328 [==============================] - 9s 28ms/step - loss: 0.2228 - accuracy: 0.9124 - val_loss: 0.2769 - val_accuracy: 0.8940\n",
            "Epoch 48/100\n",
            "328/328 [==============================] - 9s 29ms/step - loss: 0.2202 - accuracy: 0.9133 - val_loss: 0.2791 - val_accuracy: 0.8945\n",
            "Epoch 49/100\n",
            "328/328 [==============================] - 9s 29ms/step - loss: 0.2208 - accuracy: 0.9118 - val_loss: 0.2830 - val_accuracy: 0.8934\n",
            "Epoch 50/100\n",
            "328/328 [==============================] - 9s 28ms/step - loss: 0.2199 - accuracy: 0.9143 - val_loss: 0.2790 - val_accuracy: 0.8962\n",
            "Epoch 51/100\n",
            "328/328 [==============================] - 9s 28ms/step - loss: 0.2166 - accuracy: 0.9160 - val_loss: 0.2793 - val_accuracy: 0.8946\n",
            "Epoch 52/100\n",
            "328/328 [==============================] - 9s 29ms/step - loss: 0.2172 - accuracy: 0.9124 - val_loss: 0.2869 - val_accuracy: 0.8925\n",
            "Epoch 53/100\n",
            "328/328 [==============================] - 9s 28ms/step - loss: 0.2158 - accuracy: 0.9146 - val_loss: 0.2877 - val_accuracy: 0.8938\n",
            "Epoch 54/100\n",
            "328/328 [==============================] - 9s 28ms/step - loss: 0.2189 - accuracy: 0.9143 - val_loss: 0.2729 - val_accuracy: 0.8960\n",
            "Epoch 55/100\n",
            "328/328 [==============================] - 9s 28ms/step - loss: 0.2151 - accuracy: 0.9148 - val_loss: 0.2833 - val_accuracy: 0.8950\n",
            "Epoch 56/100\n",
            "328/328 [==============================] - 9s 28ms/step - loss: 0.2154 - accuracy: 0.9156 - val_loss: 0.2838 - val_accuracy: 0.8952\n",
            "Epoch 57/100\n",
            "328/328 [==============================] - 9s 28ms/step - loss: 0.2121 - accuracy: 0.9157 - val_loss: 0.2849 - val_accuracy: 0.8959\n",
            "Epoch 58/100\n",
            "328/328 [==============================] - 9s 28ms/step - loss: 0.2128 - accuracy: 0.9162 - val_loss: 0.2845 - val_accuracy: 0.8959\n",
            "Epoch 59/100\n",
            "328/328 [==============================] - 9s 28ms/step - loss: 0.2124 - accuracy: 0.9158 - val_loss: 0.2807 - val_accuracy: 0.8960\n",
            "Epoch 60/100\n",
            "328/328 [==============================] - 10s 30ms/step - loss: 0.2108 - accuracy: 0.9178 - val_loss: 0.2855 - val_accuracy: 0.8946\n",
            "Epoch 61/100\n",
            "328/328 [==============================] - 9s 28ms/step - loss: 0.2150 - accuracy: 0.9150 - val_loss: 0.2849 - val_accuracy: 0.8950\n",
            "Epoch 62/100\n",
            "328/328 [==============================] - 9s 28ms/step - loss: 0.2137 - accuracy: 0.9162 - val_loss: 0.2809 - val_accuracy: 0.8954\n",
            "Epoch 63/100\n",
            "328/328 [==============================] - 9s 28ms/step - loss: 0.2113 - accuracy: 0.9180 - val_loss: 0.2826 - val_accuracy: 0.8956\n",
            "Epoch 64/100\n",
            "328/328 [==============================] - 9s 28ms/step - loss: 0.2094 - accuracy: 0.9180 - val_loss: 0.2873 - val_accuracy: 0.8962\n",
            "Epoch 65/100\n",
            "328/328 [==============================] - 9s 28ms/step - loss: 0.2111 - accuracy: 0.9157 - val_loss: 0.2934 - val_accuracy: 0.8942\n",
            "Epoch 66/100\n",
            "328/328 [==============================] - 9s 28ms/step - loss: 0.2127 - accuracy: 0.9167 - val_loss: 0.2915 - val_accuracy: 0.8945\n",
            "Epoch 67/100\n",
            "328/328 [==============================] - 9s 28ms/step - loss: 0.2112 - accuracy: 0.9149 - val_loss: 0.2769 - val_accuracy: 0.8969\n",
            "Epoch 68/100\n",
            "328/328 [==============================] - 9s 28ms/step - loss: 0.2115 - accuracy: 0.9170 - val_loss: 0.2859 - val_accuracy: 0.8967\n",
            "Epoch 69/100\n",
            "328/328 [==============================] - 9s 29ms/step - loss: 0.2103 - accuracy: 0.9173 - val_loss: 0.2827 - val_accuracy: 0.8966\n",
            "Epoch 70/100\n",
            "328/328 [==============================] - 9s 28ms/step - loss: 0.2119 - accuracy: 0.9166 - val_loss: 0.2930 - val_accuracy: 0.8956\n",
            "Epoch 71/100\n",
            "328/328 [==============================] - 9s 29ms/step - loss: 0.2059 - accuracy: 0.9195 - val_loss: 0.2859 - val_accuracy: 0.8967\n",
            "Epoch 72/100\n",
            "328/328 [==============================] - 9s 28ms/step - loss: 0.2113 - accuracy: 0.9179 - val_loss: 0.2890 - val_accuracy: 0.8967\n",
            "Epoch 73/100\n",
            "328/328 [==============================] - 9s 28ms/step - loss: 0.2108 - accuracy: 0.9176 - val_loss: 0.2880 - val_accuracy: 0.8969\n",
            "Epoch 74/100\n",
            "328/328 [==============================] - 9s 28ms/step - loss: 0.2055 - accuracy: 0.9177 - val_loss: 0.2931 - val_accuracy: 0.8967\n",
            "Epoch 75/100\n",
            "328/328 [==============================] - 9s 28ms/step - loss: 0.2073 - accuracy: 0.9189 - val_loss: 0.2816 - val_accuracy: 0.8967\n",
            "Epoch 76/100\n",
            "328/328 [==============================] - 9s 28ms/step - loss: 0.2086 - accuracy: 0.9168 - val_loss: 0.2828 - val_accuracy: 0.8974\n",
            "Epoch 77/100\n",
            "328/328 [==============================] - 9s 28ms/step - loss: 0.2100 - accuracy: 0.9162 - val_loss: 0.2815 - val_accuracy: 0.8971\n",
            "Epoch 78/100\n",
            "328/328 [==============================] - 9s 29ms/step - loss: 0.2076 - accuracy: 0.9181 - val_loss: 0.2920 - val_accuracy: 0.8971\n",
            "Epoch 79/100\n",
            "328/328 [==============================] - 9s 28ms/step - loss: 0.2030 - accuracy: 0.9200 - val_loss: 0.2828 - val_accuracy: 0.8974\n",
            "Epoch 80/100\n",
            "328/328 [==============================] - 9s 28ms/step - loss: 0.2079 - accuracy: 0.9180 - val_loss: 0.2830 - val_accuracy: 0.8971\n",
            "Epoch 81/100\n",
            "328/328 [==============================] - 9s 28ms/step - loss: 0.2054 - accuracy: 0.9209 - val_loss: 0.2872 - val_accuracy: 0.8969\n",
            "Epoch 82/100\n",
            "328/328 [==============================] - 9s 28ms/step - loss: 0.2064 - accuracy: 0.9180 - val_loss: 0.2880 - val_accuracy: 0.8967\n",
            "Epoch 83/100\n",
            "328/328 [==============================] - 9s 28ms/step - loss: 0.2072 - accuracy: 0.9189 - val_loss: 0.2862 - val_accuracy: 0.8967\n",
            "Epoch 84/100\n",
            "328/328 [==============================] - 9s 28ms/step - loss: 0.2056 - accuracy: 0.9189 - val_loss: 0.2816 - val_accuracy: 0.8956\n",
            "Epoch 85/100\n",
            "328/328 [==============================] - 9s 29ms/step - loss: 0.2059 - accuracy: 0.9195 - val_loss: 0.2857 - val_accuracy: 0.8955\n",
            "Epoch 86/100\n",
            "328/328 [==============================] - 9s 28ms/step - loss: 0.2056 - accuracy: 0.9213 - val_loss: 0.2900 - val_accuracy: 0.8965\n",
            "Epoch 87/100\n",
            "328/328 [==============================] - 9s 28ms/step - loss: 0.2075 - accuracy: 0.9185 - val_loss: 0.2901 - val_accuracy: 0.8952\n",
            "Epoch 88/100\n",
            "328/328 [==============================] - 9s 28ms/step - loss: 0.2043 - accuracy: 0.9201 - val_loss: 0.2949 - val_accuracy: 0.8964\n",
            "Epoch 89/100\n",
            "328/328 [==============================] - 9s 28ms/step - loss: 0.2054 - accuracy: 0.9197 - val_loss: 0.2891 - val_accuracy: 0.8963\n",
            "Epoch 90/100\n",
            "328/328 [==============================] - 9s 28ms/step - loss: 0.2074 - accuracy: 0.9178 - val_loss: 0.2863 - val_accuracy: 0.8967\n",
            "Epoch 91/100\n",
            "328/328 [==============================] - 9s 28ms/step - loss: 0.2028 - accuracy: 0.9209 - val_loss: 0.2878 - val_accuracy: 0.8970\n",
            "Epoch 92/100\n",
            "328/328 [==============================] - 9s 28ms/step - loss: 0.2077 - accuracy: 0.9193 - val_loss: 0.2833 - val_accuracy: 0.8970\n",
            "Epoch 93/100\n",
            "328/328 [==============================] - 10s 29ms/step - loss: 0.2027 - accuracy: 0.9208 - val_loss: 0.2886 - val_accuracy: 0.8968\n",
            "Epoch 94/100\n",
            "328/328 [==============================] - 9s 29ms/step - loss: 0.2045 - accuracy: 0.9194 - val_loss: 0.2920 - val_accuracy: 0.8957\n",
            "Epoch 95/100\n",
            "328/328 [==============================] - 9s 28ms/step - loss: 0.2061 - accuracy: 0.9187 - val_loss: 0.2903 - val_accuracy: 0.8965\n",
            "Epoch 96/100\n",
            "328/328 [==============================] - 9s 28ms/step - loss: 0.2103 - accuracy: 0.9190 - val_loss: 0.2850 - val_accuracy: 0.8965\n",
            "Epoch 97/100\n",
            "328/328 [==============================] - 9s 28ms/step - loss: 0.2069 - accuracy: 0.9197 - val_loss: 0.2869 - val_accuracy: 0.8976\n",
            "Epoch 98/100\n",
            "328/328 [==============================] - 9s 28ms/step - loss: 0.2052 - accuracy: 0.9204 - val_loss: 0.2910 - val_accuracy: 0.8972\n",
            "Epoch 99/100\n",
            "328/328 [==============================] - 9s 28ms/step - loss: 0.2029 - accuracy: 0.9205 - val_loss: 0.2886 - val_accuracy: 0.8968\n",
            "Epoch 100/100\n",
            "328/328 [==============================] - 9s 28ms/step - loss: 0.2023 - accuracy: 0.9198 - val_loss: 0.2884 - val_accuracy: 0.8967\n",
            "Training Complete\n"
          ],
          "name": "stdout"
        }
      ]
    },
    {
      "cell_type": "code",
      "metadata": {
        "id": "7MbIy9IAxPNA",
        "colab": {
          "base_uri": "https://localhost:8080/",
          "height": 573
        },
        "outputId": "c3942d37-e085-4538-b9b5-5b2d771e380f"
      },
      "source": [
        "# Visualize the results:\n",
        "\n",
        "plt.plot(history.history['accuracy'])\n",
        "plt.plot(history.history['val_accuracy'])\n",
        "plt.title('Model accuracy')\n",
        "plt.ylabel('Accuracy')\n",
        "plt.xlabel('Epoch')\n",
        "plt.legend(['Train', 'Test'], loc='upper left')\n",
        "plt.show()\n",
        "\n",
        "plt.plot(history.history['loss'])\n",
        "plt.plot(history.history['val_loss'])\n",
        "plt.title('Model loss')\n",
        "plt.ylabel('Loss')\n",
        "plt.xlabel('Epoch')\n",
        "plt.legend(['Train', 'Test'], loc='upper right')\n",
        "plt.show()"
      ],
      "execution_count": null,
      "outputs": [
        {
          "output_type": "display_data",
          "data": {
            "image/png": "[encoded data removed]",
            "text/plain": [
              "<Figure size 432x288 with 1 Axes>"
            ]
          },
          "metadata": {
            "tags": [],
            "needs_background": "light"
          }
        },
        {
          "output_type": "display_data",
          "data": {
            "image/png": "[encoded data removed]",
            "text/plain": [
              "<Figure size 432x288 with 1 Axes>"
            ]
          },
          "metadata": {
            "tags": [],
            "needs_background": "light"
          }
        }
      ]
    },
    {
      "cell_type": "markdown",
      "source": [
        "# F1-Score"
      ],
      "metadata": {
        "id": "Gss7x8Nc_RSN"
      }
    },
    {
      "cell_type": "code",
      "source": [
        "df = pd.read_csv(\"/content/drive/MyDrive/GNR_project/pred_vs_actual_test.csv\")\n",
        "y_pred = df['y_pred']\n",
        "y_actual = df['y_actual']\n",
        "print(\"F1-Score: {}\".format(f1_score(y_actual, y_pred, average='macro')))"
      ],
      "metadata": {
        "colab": {
          "base_uri": "https://localhost:8080/"
        },
        "id": "Z5KWBMLt_Buy",
        "outputId": "7afbaf71-67d0-462f-a477-eff73fc8559d"
      },
      "execution_count": 4,
      "outputs": [
        {
          "output_type": "stream",
          "name": "stdout",
          "text": [
            "F1-Score: 0.8956815847875055\n"
          ]
        }
      ]
    }
  ]
}